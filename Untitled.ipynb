{
 "cells": [
  {
   "cell_type": "markdown",
   "id": "optical-biology",
   "metadata": {},
   "source": [
    "Meu primeiro programa em python em jupyter"
   ]
  },
  {
   "cell_type": "code",
   "execution_count": 8,
   "id": "delayed-session",
   "metadata": {},
   "outputs": [
    {
     "ename": "IndentationError",
     "evalue": "expected an indented block (<ipython-input-8-c40eab6ecce3>, line 6)",
     "output_type": "error",
     "traceback": [
      "\u001b[0;36m  File \u001b[0;32m\"<ipython-input-8-c40eab6ecce3>\"\u001b[0;36m, line \u001b[0;32m6\u001b[0m\n\u001b[0;31m    input(\"Digite dois numeros\")\u001b[0m\n\u001b[0m    ^\u001b[0m\n\u001b[0;31mIndentationError\u001b[0m\u001b[0;31m:\u001b[0m expected an indented block\n"
     ]
    }
   ],
   "source": [
    "print(\"Operações\")\n",
    "\n",
    "input(\"digite qual a operação: + - * /\")\n",
    "\n",
    "if(sinal == '+'):\n",
    "input(\"Digite dois numeros\")\n",
    "print(1+1)"
   ]
  }
 ],
 "metadata": {
  "kernelspec": {
   "display_name": "Python 3",
   "language": "python",
   "name": "python3"
  },
  "language_info": {
   "codemirror_mode": {
    "name": "ipython",
    "version": 3
   },
   "file_extension": ".py",
   "mimetype": "text/x-python",
   "name": "python",
   "nbconvert_exporter": "python",
   "pygments_lexer": "ipython3",
   "version": "3.9.1"
  }
 },
 "nbformat": 4,
 "nbformat_minor": 5
}
